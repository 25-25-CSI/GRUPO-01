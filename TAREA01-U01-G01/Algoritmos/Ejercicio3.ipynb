{
  "nbformat": 4,
  "nbformat_minor": 0,
  "metadata": {
    "colab": {
      "provenance": []
    },
    "kernelspec": {
      "name": "python3",
      "display_name": "Python 3"
    },
    "language_info": {
      "name": "python"
    }
  },
  "cells": [
    {
      "cell_type": "code",
      "source": [
        "import random\n",
        "import math"
      ],
      "metadata": {
        "id": "he5dNZe-PQaP"
      },
      "execution_count": 36,
      "outputs": []
    },
    {
      "cell_type": "code",
      "source": [
        "def cifrado_permutacion_columnas():\n",
        "    mensaje = input(\"Ingrese el mensaje a cifrar: \").replace(\" \", \"\").upper()\n",
        "    longitud = len(mensaje)\n",
        "    n = math.ceil(math.sqrt(longitud))\n",
        "\n",
        "    print(f\"\\nLongitud del mensaje: {longitud} caracteres\")\n",
        "    print(f\"Número de columnas: {n}\")\n",
        "\n",
        "    mensaje_relleno = mensaje.ljust(n*n, '*')\n",
        "\n",
        "    # Crear matriz de cifrado\n",
        "    matriz = []\n",
        "    for i in range(0, n*n, n):\n",
        "        fila = list(mensaje_relleno[i:i+n])\n",
        "        matriz.append(fila)\n",
        "\n",
        "    # Mostrar matriz original\n",
        "    print(\"\\nMatriz de cifrado:\")\n",
        "    for fila in matriz:\n",
        "        print(\" \".join(fila))\n",
        "\n",
        "    # Generar permutación aleatoria de columnas\n",
        "    columnas_cifradas = random.sample(range(n), n)\n",
        "    print(\"\\nclave:\", columnas_cifradas)\n",
        "\n",
        "    # Cifrar\n",
        "    mensaje_cifrado = \"\"\n",
        "    for col in columnas_cifradas:\n",
        "        for fila in matriz:\n",
        "            mensaje_cifrado += fila[col]\n",
        "\n",
        "    # Resultados\n",
        "    print(\"\\nMensaje original:\", mensaje)\n",
        "    print(\"Mensaje cifrado:\", mensaje_cifrado)\n"
      ],
      "metadata": {
        "id": "EgmNtmVeQLcR"
      },
      "execution_count": 40,
      "outputs": []
    },
    {
      "cell_type": "code",
      "source": [
        "cifrado_permutacion_columnas()"
      ],
      "metadata": {
        "colab": {
          "base_uri": "https://localhost:8080/"
        },
        "id": "KZYgPdJhMZOr",
        "outputId": "e7da2b72-4837-4289-ea33-c22ada6d019f"
      },
      "execution_count": 41,
      "outputs": [
        {
          "output_type": "stream",
          "name": "stdout",
          "text": [
            "Ingrese el mensaje a cifrar: hola mundo\n",
            "\n",
            "Longitud del mensaje: 9 caracteres\n",
            "Número de columnas: 3\n",
            "\n",
            "Matriz de cifrado:\n",
            "H O L\n",
            "A M U\n",
            "N D O\n",
            "\n",
            "clave: [2, 0, 1]\n",
            "\n",
            "Mensaje original: HOLAMUNDO\n",
            "Mensaje cifrado: LUOHANOMD\n"
          ]
        }
      ]
    }
  ]
}