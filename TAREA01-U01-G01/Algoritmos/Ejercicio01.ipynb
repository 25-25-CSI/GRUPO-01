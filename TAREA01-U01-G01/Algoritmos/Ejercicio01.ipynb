{
  "nbformat": 4,
  "nbformat_minor": 0,
  "metadata": {
    "colab": {
      "provenance": []
    },
    "kernelspec": {
      "name": "python3",
      "display_name": "Python 3"
    },
    "language_info": {
      "name": "python"
    }
  },
  "cells": [
    {
      "cell_type": "code",
      "source": [
        "def permutar(palabra):\n",
        "    if len(palabra) <= 1:\n",
        "        return [palabra]\n",
        "\n",
        "    resultado = []\n",
        "    for i, letra in enumerate(palabra):\n",
        "        resto = palabra[:i] + palabra[i+1:]\n",
        "        for p in permutar(resto):\n",
        "            resultado.append(letra + p)\n",
        "    return resultado"
      ],
      "metadata": {
        "id": "nErLfJFkc1gz"
      },
      "execution_count": 5,
      "outputs": []
    },
    {
      "cell_type": "code",
      "source": [
        "input_palabra = input(\"Ingrese una palabra: \").strip().lower()\n",
        "permutaciones = sorted(set(permutar(input_palabra)))  # Elimina duplicados y ordena\n",
        "\n",
        "print(f\"\\nTotal permutaciones únicas: {len(permutaciones)}\")\n",
        "print(\"\\nPrimeras 10 permutaciones:\")\n",
        "\n",
        "for i, p in enumerate(permutaciones[:10], 1):\n",
        "    print(f\"{i}. {p}\")"
      ],
      "metadata": {
        "colab": {
          "base_uri": "https://localhost:8080/"
        },
        "id": "4oDWRbxoTrG0",
        "outputId": "68fc67b3-07b5-4883-dcfd-95f858277906"
      },
      "execution_count": 4,
      "outputs": [
        {
          "output_type": "stream",
          "name": "stdout",
          "text": [
            "Ingrese una palabra: hola\n",
            "\n",
            "Total permutaciones únicas: 24\n",
            "\n",
            "Primeras 10 permutaciones:\n",
            "1. ahlo\n",
            "2. ahol\n",
            "3. alho\n",
            "4. aloh\n",
            "5. aohl\n",
            "6. aolh\n",
            "7. halo\n",
            "8. haol\n",
            "9. hlao\n",
            "10. hloa\n"
          ]
        }
      ]
    }
  ]
}